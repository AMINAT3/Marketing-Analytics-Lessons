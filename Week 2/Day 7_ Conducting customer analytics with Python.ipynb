{
 "cells": [
  {
   "cell_type": "markdown",
   "id": "84e3a723-21f9-46c7-b7e7-6b0b0651bdc8",
   "metadata": {},
   "source": [
    "# Conducting customer analytics with Python\n",
    "In this section, we are going to discuss how to conduct customer analytics using Python. We will be mainly using the pandas \n",
    "and matplotlib packages to analyze and visualize the customer behavior observed in the dataset. "
   ]
  },
  {
   "cell_type": "code",
   "execution_count": 2,
   "id": "a84878ac-3c22-45bf-b059-c90da1b440c4",
   "metadata": {
    "executionInfo": {
     "elapsed": 582,
     "status": "ok",
     "timestamp": 1655217510748,
     "user": {
      "displayName": "Dataset NexusTech",
      "userId": "07175580999036037068"
     },
     "user_tz": -60
    },
    "id": "a84878ac-3c22-45bf-b059-c90da1b440c4"
   },
   "outputs": [],
   "source": [
    "import matplotlib.pyplot as plt"
   ]
  },
  {
   "cell_type": "code",
   "execution_count": 1,
   "id": "e89333a9-03ba-4b15-a64a-cf003edd50d4",
   "metadata": {
    "executionInfo": {
     "elapsed": 1276,
     "status": "ok",
     "timestamp": 1655217563844,
     "user": {
      "displayName": "Dataset NexusTech",
      "userId": "07175580999036037068"
     },
     "user_tz": -60
    },
    "id": "e89333a9-03ba-4b15-a64a-cf003edd50d4"
   },
   "outputs": [],
   "source": [
    "# importing the pandas library and loading the dataset\n",
    "import pandas as pd\n",
    "df = pd.read_csv('C:\\\\Users\\\\Zachary_B\\\\Desktop\\\\dataset\\\\WA_Fn-UseC_-Marketing-Customer-Value-Analysis.csv')"
   ]
  },
  {
   "cell_type": "code",
   "execution_count": 5,
   "id": "e33e3e66-e335-443e-b0d7-82a0270478c1",
   "metadata": {
    "colab": {
     "base_uri": "https://localhost:8080/",
     "height": 508
    },
    "executionInfo": {
     "elapsed": 483,
     "status": "ok",
     "timestamp": 1655217567038,
     "user": {
      "displayName": "Dataset NexusTech",
      "userId": "07175580999036037068"
     },
     "user_tz": -60
    },
    "id": "e33e3e66-e335-443e-b0d7-82a0270478c1",
    "outputId": "24b29945-46d9-4ddf-e404-f415ad2ef3dc"
   },
   "outputs": [
    {
     "data": {
      "text/html": [
       "<div>\n",
       "<style scoped>\n",
       "    .dataframe tbody tr th:only-of-type {\n",
       "        vertical-align: middle;\n",
       "    }\n",
       "\n",
       "    .dataframe tbody tr th {\n",
       "        vertical-align: top;\n",
       "    }\n",
       "\n",
       "    .dataframe thead th {\n",
       "        text-align: right;\n",
       "    }\n",
       "</style>\n",
       "<table border=\"1\" class=\"dataframe\">\n",
       "  <thead>\n",
       "    <tr style=\"text-align: right;\">\n",
       "      <th></th>\n",
       "      <th>Customer</th>\n",
       "      <th>State</th>\n",
       "      <th>Customer Lifetime Value</th>\n",
       "      <th>Response</th>\n",
       "      <th>Coverage</th>\n",
       "      <th>Education</th>\n",
       "      <th>Effective To Date</th>\n",
       "      <th>EmploymentStatus</th>\n",
       "      <th>Gender</th>\n",
       "      <th>Income</th>\n",
       "      <th>...</th>\n",
       "      <th>Months Since Policy Inception</th>\n",
       "      <th>Number of Open Complaints</th>\n",
       "      <th>Number of Policies</th>\n",
       "      <th>Policy Type</th>\n",
       "      <th>Policy</th>\n",
       "      <th>Renew Offer Type</th>\n",
       "      <th>Sales Channel</th>\n",
       "      <th>Total Claim Amount</th>\n",
       "      <th>Vehicle Class</th>\n",
       "      <th>Vehicle Size</th>\n",
       "    </tr>\n",
       "  </thead>\n",
       "  <tbody>\n",
       "    <tr>\n",
       "      <th>0</th>\n",
       "      <td>BU79786</td>\n",
       "      <td>Washington</td>\n",
       "      <td>2763.519279</td>\n",
       "      <td>No</td>\n",
       "      <td>Basic</td>\n",
       "      <td>Bachelor</td>\n",
       "      <td>2/24/11</td>\n",
       "      <td>Employed</td>\n",
       "      <td>F</td>\n",
       "      <td>56274</td>\n",
       "      <td>...</td>\n",
       "      <td>5</td>\n",
       "      <td>0</td>\n",
       "      <td>1</td>\n",
       "      <td>Corporate Auto</td>\n",
       "      <td>Corporate L3</td>\n",
       "      <td>Offer1</td>\n",
       "      <td>Agent</td>\n",
       "      <td>384.811147</td>\n",
       "      <td>Two-Door Car</td>\n",
       "      <td>Medsize</td>\n",
       "    </tr>\n",
       "    <tr>\n",
       "      <th>1</th>\n",
       "      <td>QZ44356</td>\n",
       "      <td>Arizona</td>\n",
       "      <td>6979.535903</td>\n",
       "      <td>No</td>\n",
       "      <td>Extended</td>\n",
       "      <td>Bachelor</td>\n",
       "      <td>1/31/11</td>\n",
       "      <td>Unemployed</td>\n",
       "      <td>F</td>\n",
       "      <td>0</td>\n",
       "      <td>...</td>\n",
       "      <td>42</td>\n",
       "      <td>0</td>\n",
       "      <td>8</td>\n",
       "      <td>Personal Auto</td>\n",
       "      <td>Personal L3</td>\n",
       "      <td>Offer3</td>\n",
       "      <td>Agent</td>\n",
       "      <td>1131.464935</td>\n",
       "      <td>Four-Door Car</td>\n",
       "      <td>Medsize</td>\n",
       "    </tr>\n",
       "    <tr>\n",
       "      <th>2</th>\n",
       "      <td>AI49188</td>\n",
       "      <td>Nevada</td>\n",
       "      <td>12887.431650</td>\n",
       "      <td>No</td>\n",
       "      <td>Premium</td>\n",
       "      <td>Bachelor</td>\n",
       "      <td>2/19/11</td>\n",
       "      <td>Employed</td>\n",
       "      <td>F</td>\n",
       "      <td>48767</td>\n",
       "      <td>...</td>\n",
       "      <td>38</td>\n",
       "      <td>0</td>\n",
       "      <td>2</td>\n",
       "      <td>Personal Auto</td>\n",
       "      <td>Personal L3</td>\n",
       "      <td>Offer1</td>\n",
       "      <td>Agent</td>\n",
       "      <td>566.472247</td>\n",
       "      <td>Two-Door Car</td>\n",
       "      <td>Medsize</td>\n",
       "    </tr>\n",
       "    <tr>\n",
       "      <th>3</th>\n",
       "      <td>WW63253</td>\n",
       "      <td>California</td>\n",
       "      <td>7645.861827</td>\n",
       "      <td>No</td>\n",
       "      <td>Basic</td>\n",
       "      <td>Bachelor</td>\n",
       "      <td>1/20/11</td>\n",
       "      <td>Unemployed</td>\n",
       "      <td>M</td>\n",
       "      <td>0</td>\n",
       "      <td>...</td>\n",
       "      <td>65</td>\n",
       "      <td>0</td>\n",
       "      <td>7</td>\n",
       "      <td>Corporate Auto</td>\n",
       "      <td>Corporate L2</td>\n",
       "      <td>Offer1</td>\n",
       "      <td>Call Center</td>\n",
       "      <td>529.881344</td>\n",
       "      <td>SUV</td>\n",
       "      <td>Medsize</td>\n",
       "    </tr>\n",
       "    <tr>\n",
       "      <th>4</th>\n",
       "      <td>HB64268</td>\n",
       "      <td>Washington</td>\n",
       "      <td>2813.692575</td>\n",
       "      <td>No</td>\n",
       "      <td>Basic</td>\n",
       "      <td>Bachelor</td>\n",
       "      <td>2/3/11</td>\n",
       "      <td>Employed</td>\n",
       "      <td>M</td>\n",
       "      <td>43836</td>\n",
       "      <td>...</td>\n",
       "      <td>44</td>\n",
       "      <td>0</td>\n",
       "      <td>1</td>\n",
       "      <td>Personal Auto</td>\n",
       "      <td>Personal L1</td>\n",
       "      <td>Offer1</td>\n",
       "      <td>Agent</td>\n",
       "      <td>138.130879</td>\n",
       "      <td>Four-Door Car</td>\n",
       "      <td>Medsize</td>\n",
       "    </tr>\n",
       "  </tbody>\n",
       "</table>\n",
       "<p>5 rows × 24 columns</p>\n",
       "</div>"
      ],
      "text/plain": [
       "  Customer       State  Customer Lifetime Value Response  Coverage Education  \\\n",
       "0  BU79786  Washington              2763.519279       No     Basic  Bachelor   \n",
       "1  QZ44356     Arizona              6979.535903       No  Extended  Bachelor   \n",
       "2  AI49188      Nevada             12887.431650       No   Premium  Bachelor   \n",
       "3  WW63253  California              7645.861827       No     Basic  Bachelor   \n",
       "4  HB64268  Washington              2813.692575       No     Basic  Bachelor   \n",
       "\n",
       "  Effective To Date EmploymentStatus Gender  Income  ...  \\\n",
       "0           2/24/11         Employed      F   56274  ...   \n",
       "1           1/31/11       Unemployed      F       0  ...   \n",
       "2           2/19/11         Employed      F   48767  ...   \n",
       "3           1/20/11       Unemployed      M       0  ...   \n",
       "4            2/3/11         Employed      M   43836  ...   \n",
       "\n",
       "  Months Since Policy Inception Number of Open Complaints  Number of Policies  \\\n",
       "0                             5                         0                   1   \n",
       "1                            42                         0                   8   \n",
       "2                            38                         0                   2   \n",
       "3                            65                         0                   7   \n",
       "4                            44                         0                   1   \n",
       "\n",
       "      Policy Type        Policy  Renew Offer Type  Sales Channel  \\\n",
       "0  Corporate Auto  Corporate L3            Offer1          Agent   \n",
       "1   Personal Auto   Personal L3            Offer3          Agent   \n",
       "2   Personal Auto   Personal L3            Offer1          Agent   \n",
       "3  Corporate Auto  Corporate L2            Offer1    Call Center   \n",
       "4   Personal Auto   Personal L1            Offer1          Agent   \n",
       "\n",
       "  Total Claim Amount  Vehicle Class Vehicle Size  \n",
       "0         384.811147   Two-Door Car      Medsize  \n",
       "1        1131.464935  Four-Door Car      Medsize  \n",
       "2         566.472247   Two-Door Car      Medsize  \n",
       "3         529.881344            SUV      Medsize  \n",
       "4         138.130879  Four-Door Car      Medsize  \n",
       "\n",
       "[5 rows x 24 columns]"
      ]
     },
     "execution_count": 5,
     "metadata": {},
     "output_type": "execute_result"
    }
   ],
   "source": [
    "# returns the first five rows of the dataset \n",
    "df.head()"
   ]
  },
  {
   "cell_type": "code",
   "execution_count": 6,
   "id": "e3a7f64c-d64c-4cd4-8976-049bdb5bb3f9",
   "metadata": {
    "colab": {
     "base_uri": "https://localhost:8080/"
    },
    "executionInfo": {
     "elapsed": 16,
     "status": "ok",
     "timestamp": 1655217571833,
     "user": {
      "displayName": "Dataset NexusTech",
      "userId": "07175580999036037068"
     },
     "user_tz": -60
    },
    "id": "e3a7f64c-d64c-4cd4-8976-049bdb5bb3f9",
    "outputId": "39e74385-fc65-4333-8b19-93145a1c1857"
   },
   "outputs": [
    {
     "data": {
      "text/plain": [
       "(9134, 24)"
      ]
     },
     "execution_count": 6,
     "metadata": {},
     "output_type": "execute_result"
    }
   ],
   "source": [
    "# returns the number of rows and columns in the dataset\n",
    "df.shape"
   ]
  },
  {
   "cell_type": "markdown",
   "id": "14c92c7e-a26f-44de-800b-760f4df3d5a5",
   "metadata": {
    "id": "14c92c7e-a26f-44de-800b-760f4df3d5a5"
   },
   "source": [
    "## Analytics on engaged customers\n",
    "Now that we have loaded the data into our Python environment, we are going\n",
    "to analyze it to understand how different customers behave and react to\n",
    "different marketing strategies. We are going to follow these steps:\n",
    "1. Overall engagement rate\n",
    "2. Engagement rates by offer type\n",
    "3. Engagement rates by offer type and vehicle class\n",
    "4. Engagement rates by sales channel\n",
    "5. Engagement rates by sales channel and vehicle size"
   ]
  },
  {
   "cell_type": "markdown",
   "id": "b0775179-62b2-4245-8a80-3d9d9c83d806",
   "metadata": {
    "id": "b0775179-62b2-4245-8a80-3d9d9c83d806"
   },
   "source": [
    "### Overall engagement rate"
   ]
  },
  {
   "cell_type": "code",
   "execution_count": 7,
   "id": "9d2cdccb-d9c8-4ac0-9fdb-57a4d7dcbd5b",
   "metadata": {
    "colab": {
     "base_uri": "https://localhost:8080/"
    },
    "executionInfo": {
     "elapsed": 28,
     "status": "ok",
     "timestamp": 1655217576595,
     "user": {
      "displayName": "Dataset NexusTech",
      "userId": "07175580999036037068"
     },
     "user_tz": -60
    },
    "id": "9d2cdccb-d9c8-4ac0-9fdb-57a4d7dcbd5b",
    "outputId": "98823e46-6787-48dc-cf4f-975cc8078aa7"
   },
   "outputs": [
    {
     "data": {
      "text/plain": [
       "Response\n",
       "No     7826\n",
       "Yes    1308\n",
       "Name: Customer, dtype: int64"
      ]
     },
     "execution_count": 7,
     "metadata": {},
     "output_type": "execute_result"
    }
   ],
   "source": [
    "# We can use the following code to get the total number of customers who have responded\n",
    "df.groupby('Response').count()['Customer']"
   ]
  },
  {
   "cell_type": "code",
   "execution_count": 8,
   "id": "1632eb1f-3b93-43c8-8372-c674e8129af8",
   "metadata": {
    "colab": {
     "base_uri": "https://localhost:8080/",
     "height": 464
    },
    "executionInfo": {
     "elapsed": 1080,
     "status": "ok",
     "timestamp": 1655217579879,
     "user": {
      "displayName": "Dataset NexusTech",
      "userId": "07175580999036037068"
     },
     "user_tz": -60
    },
    "id": "1632eb1f-3b93-43c8-8372-c674e8129af8",
    "outputId": "76f1c0b9-4aab-4c50-eabc-0ffc819d4607"
   },
   "outputs": [
    {
     "data": {
      "image/png": "[encoded data removed]",
      "text/plain": [
       "<Figure size 720x504 with 1 Axes>"
      ]
     },
     "metadata": {
      "needs_background": "light"
     },
     "output_type": "display_data"
    }
   ],
   "source": [
    "# In order to visualize the above in a plot, you can use the following code:\n",
    "\n",
    "\n",
    "ax = df.groupby('Response').count()['Customer'].plot(\n",
    "kind='bar',\n",
    "color='skyblue',\n",
    "grid=True,\n",
    "figsize=(10, 7),\n",
    "title='Marketing Engagment'\n",
    ")\n",
    "ax.set_xlabel('Engaged')\n",
    "ax.set_ylabel('Count')\n",
    "plt.show()\n"
   ]
  },
  {
   "cell_type": "code",
   "execution_count": 9,
   "id": "dd196af9-262c-45d4-9362-832d82e47409",
   "metadata": {
    "colab": {
     "base_uri": "https://localhost:8080/"
    },
    "executionInfo": {
     "elapsed": 366,
     "status": "ok",
     "timestamp": 1655217584186,
     "user": {
      "displayName": "Dataset NexusTech",
      "userId": "07175580999036037068"
     },
     "user_tz": -60
    },
    "id": "dd196af9-262c-45d4-9362-832d82e47409",
    "outputId": "93d2d2b3-1ddb-49fe-ca95-636d3c70a4bd"
   },
   "outputs": [
    {
     "data": {
      "text/plain": [
       "Response\n",
       "No     85.679877\n",
       "Yes    14.320123\n",
       "Name: Customer, dtype: float64"
      ]
     },
     "execution_count": 9,
     "metadata": {},
     "output_type": "execute_result"
    }
   ],
   "source": [
    "# We can use the following code to get the percentage of customers who have responded\n",
    "df.groupby('Response').count()['Customer']/df.shape[0]*100"
   ]
  },
  {
   "cell_type": "markdown",
   "id": "8f0ac015-2f01-4b49-b235-999bc7fe8ac4",
   "metadata": {
    "id": "8f0ac015-2f01-4b49-b235-999bc7fe8ac4"
   },
   "source": [
    "### Engagement rates by offer type"
   ]
  },
  {
   "cell_type": "code",
   "execution_count": 10,
   "id": "0976db66-bf8a-414e-9cf6-3afe6a11d7da",
   "metadata": {
    "executionInfo": {
     "elapsed": 9,
     "status": "ok",
     "timestamp": 1655217586412,
     "user": {
      "displayName": "Dataset NexusTech",
      "userId": "07175580999036037068"
     },
     "user_tz": -60
    },
    "id": "0976db66-bf8a-414e-9cf6-3afe6a11d7da"
   },
   "outputs": [],
   "source": [
    "# we are going to look into what types of offers worked best for the engaged customers. Take a look at the following code:\n",
    "\n",
    "by_offer_type_df = df.loc[df['Response'] == 'Yes'].groupby(['Renew Offer Type']).count()['Customer'] / df.groupby('Renew Offer Type').count()['Customer']*100"
   ]
  },
  {
   "cell_type": "code",
   "execution_count": 11,
   "id": "84b91fc7-7610-4a17-827a-1bc7dad219c9",
   "metadata": {
    "id": "84b91fc7-7610-4a17-827a-1bc7dad219c9",
    "outputId": "b25c23c7-bc60-45be-899a-2e2670eeccb4"
   },
   "outputs": [
    {
     "data": {
      "text/plain": [
       "Renew Offer Type\n",
       "Offer1    15.831557\n",
       "Offer2    23.376623\n",
       "Offer3     2.094972\n",
       "Offer4          NaN\n",
       "Name: Customer, dtype: float64"
      ]
     },
     "execution_count": 11,
     "metadata": {},
     "output_type": "execute_result"
    }
   ],
   "source": [
    "by_offer_type_df"
   ]
  },
  {
   "cell_type": "code",
   "execution_count": 12,
   "id": "5b2308c0-57c0-4d7e-8ddc-459fb1dd5ee9",
   "metadata": {
    "colab": {
     "base_uri": "https://localhost:8080/",
     "height": 464
    },
    "executionInfo": {
     "elapsed": 577,
     "status": "ok",
     "timestamp": 1655217597799,
     "user": {
      "displayName": "Dataset NexusTech",
      "userId": "07175580999036037068"
     },
     "user_tz": -60
    },
    "id": "5b2308c0-57c0-4d7e-8ddc-459fb1dd5ee9",
    "outputId": "80f761e9-c5da-4de1-f86d-111d390d09c4"
   },
   "outputs": [
    {
     "data": {
      "image/png": "[encoded data removed]",
      "text/plain": [
       "<Figure size 504x504 with 1 Axes>"
      ]
     },
     "metadata": {
      "needs_background": "light"
     },
     "output_type": "display_data"
    }
   ],
   "source": [
    "# We can visualize these results in a bar plot, using the following code:\n",
    "ax = (by_offer_type_df).plot(\n",
    "kind='bar',\n",
    "figsize=(7, 7),\n",
    "color='skyblue',\n",
    "grid=True\n",
    ")\n",
    "ax.set_ylabel('Engagement Rate (%)')\n",
    "plt.show()"
   ]
  },
  {
   "cell_type": "markdown",
   "id": "724d45ed-8fc7-423d-a527-656543fb5040",
   "metadata": {
    "id": "724d45ed-8fc7-423d-a527-656543fb5040"
   },
   "source": [
    "### Engagement rates by offer type and vehicle class"
   ]
  },
  {
   "cell_type": "code",
   "execution_count": 13,
   "id": "6ece01c1-edde-444a-818d-b40c1661d2d6",
   "metadata": {
    "executionInfo": {
     "elapsed": 33,
     "status": "ok",
     "timestamp": 1655217598286,
     "user": {
      "displayName": "Dataset NexusTech",
      "userId": "07175580999036037068"
     },
     "user_tz": -60
    },
    "id": "6ece01c1-edde-444a-818d-b40c1661d2d6"
   },
   "outputs": [],
   "source": [
    "#We are going tolook at the engagement rates by each offer type and Vehicle Class using thefollowing code\n",
    "\n",
    "by_offer_type_df = df.loc[df['Response'] == 'Yes'].groupby(['Renew Offer Type', 'Vehicle Class']).count()['Customer']/df.groupby('Renew Offer Type').count()['Customer']*100"
   ]
  },
  {
   "cell_type": "code",
   "execution_count": 14,
   "id": "960f5cb9-8bfd-4d8b-95ca-4c5e64c34bbb",
   "metadata": {
    "colab": {
     "base_uri": "https://localhost:8080/"
    },
    "executionInfo": {
     "elapsed": 34,
     "status": "ok",
     "timestamp": 1655217598288,
     "user": {
      "displayName": "Dataset NexusTech",
      "userId": "07175580999036037068"
     },
     "user_tz": -60
    },
    "id": "960f5cb9-8bfd-4d8b-95ca-4c5e64c34bbb",
    "outputId": "d3b03947-5344-4763-f363-809f4d58ff6e"
   },
   "outputs": [
    {
     "data": {
      "text/plain": [
       "Renew Offer Type  Vehicle Class\n",
       "Offer1            Four-Door Car     7.036247\n",
       "                  Luxury Car        0.159915\n",
       "                  Luxury SUV        0.479744\n",
       "                  SUV               4.477612\n",
       "                  Sports Car        1.119403\n",
       "                  Two-Door Car      2.558635\n",
       "Offer2            Four-Door Car    11.483254\n",
       "                  Luxury Car        0.205058\n",
       "                  Luxury SUV        0.410116\n",
       "                  SUV               4.101162\n",
       "                  Sports Car        1.640465\n",
       "                  Two-Door Car      5.536569\n",
       "Offer3            Four-Door Car     1.675978\n",
       "                  Two-Door Car      0.418994\n",
       "Name: Customer, dtype: float64"
      ]
     },
     "execution_count": 14,
     "metadata": {},
     "output_type": "execute_result"
    }
   ],
   "source": [
    "by_offer_type_df"
   ]
  },
  {
   "cell_type": "code",
   "execution_count": 15,
   "id": "90e9f4b6-40d2-4d68-aea5-5a041b96e03a",
   "metadata": {
    "executionInfo": {
     "elapsed": 32,
     "status": "ok",
     "timestamp": 1655217598289,
     "user": {
      "displayName": "Dataset NexusTech",
      "userId": "07175580999036037068"
     },
     "user_tz": -60
    },
    "id": "90e9f4b6-40d2-4d68-aea5-5a041b96e03a"
   },
   "outputs": [],
   "source": [
    "by_offer_type_df = pd.DataFrame(by_offer_type_df)"
   ]
  },
  {
   "cell_type": "code",
   "execution_count": 16,
   "id": "2336cc47-4f8d-492c-93d9-76ccf8aaf74f",
   "metadata": {
    "executionInfo": {
     "elapsed": 33,
     "status": "ok",
     "timestamp": 1655217598291,
     "user": {
      "displayName": "Dataset NexusTech",
      "userId": "07175580999036037068"
     },
     "user_tz": -60
    },
    "id": "2336cc47-4f8d-492c-93d9-76ccf8aaf74f"
   },
   "outputs": [],
   "source": [
    "# To make this more readable, we can transform this data by using the followingcode\n",
    "by_offer_type_df = by_offer_type_df.unstack().fillna(0)"
   ]
  },
  {
   "cell_type": "code",
   "execution_count": 17,
   "id": "b88d57f0-578c-40d8-b08e-ea2d2357c16c",
   "metadata": {
    "colab": {
     "base_uri": "https://localhost:8080/",
     "height": 269
    },
    "executionInfo": {
     "elapsed": 33,
     "status": "ok",
     "timestamp": 1655217598292,
     "user": {
      "displayName": "Dataset NexusTech",
      "userId": "07175580999036037068"
     },
     "user_tz": -60
    },
    "id": "b88d57f0-578c-40d8-b08e-ea2d2357c16c",
    "outputId": "63d89bf4-06a2-4375-b90b-3007d0deedcb"
   },
   "outputs": [
    {
     "data": {
      "text/html": [
       "<div>\n",
       "<style scoped>\n",
       "    .dataframe tbody tr th:only-of-type {\n",
       "        vertical-align: middle;\n",
       "    }\n",
       "\n",
       "    .dataframe tbody tr th {\n",
       "        vertical-align: top;\n",
       "    }\n",
       "\n",
       "    .dataframe thead th {\n",
       "        text-align: right;\n",
       "    }\n",
       "</style>\n",
       "<table border=\"1\" class=\"dataframe\">\n",
       "  <thead>\n",
       "    <tr style=\"text-align: right;\">\n",
       "      <th></th>\n",
       "      <th>Renew Offer Type</th>\n",
       "      <th>Offer1</th>\n",
       "      <th>Offer2</th>\n",
       "      <th>Offer3</th>\n",
       "    </tr>\n",
       "    <tr>\n",
       "      <th></th>\n",
       "      <th>Vehicle Class</th>\n",
       "      <th></th>\n",
       "      <th></th>\n",
       "      <th></th>\n",
       "    </tr>\n",
       "  </thead>\n",
       "  <tbody>\n",
       "    <tr>\n",
       "      <th rowspan=\"6\" valign=\"top\">Customer</th>\n",
       "      <th>Four-Door Car</th>\n",
       "      <td>7.036247</td>\n",
       "      <td>11.483254</td>\n",
       "      <td>1.675978</td>\n",
       "    </tr>\n",
       "    <tr>\n",
       "      <th>Luxury Car</th>\n",
       "      <td>0.159915</td>\n",
       "      <td>0.205058</td>\n",
       "      <td>0.000000</td>\n",
       "    </tr>\n",
       "    <tr>\n",
       "      <th>Luxury SUV</th>\n",
       "      <td>0.479744</td>\n",
       "      <td>0.410116</td>\n",
       "      <td>0.000000</td>\n",
       "    </tr>\n",
       "    <tr>\n",
       "      <th>SUV</th>\n",
       "      <td>4.477612</td>\n",
       "      <td>4.101162</td>\n",
       "      <td>0.000000</td>\n",
       "    </tr>\n",
       "    <tr>\n",
       "      <th>Sports Car</th>\n",
       "      <td>1.119403</td>\n",
       "      <td>1.640465</td>\n",
       "      <td>0.000000</td>\n",
       "    </tr>\n",
       "    <tr>\n",
       "      <th>Two-Door Car</th>\n",
       "      <td>2.558635</td>\n",
       "      <td>5.536569</td>\n",
       "      <td>0.418994</td>\n",
       "    </tr>\n",
       "  </tbody>\n",
       "</table>\n",
       "</div>"
      ],
      "text/plain": [
       "Renew Offer Type          Offer1     Offer2    Offer3\n",
       "         Vehicle Class                               \n",
       "Customer Four-Door Car  7.036247  11.483254  1.675978\n",
       "         Luxury Car     0.159915   0.205058  0.000000\n",
       "         Luxury SUV     0.479744   0.410116  0.000000\n",
       "         SUV            4.477612   4.101162  0.000000\n",
       "         Sports Car     1.119403   1.640465  0.000000\n",
       "         Two-Door Car   2.558635   5.536569  0.418994"
      ]
     },
     "execution_count": 17,
     "metadata": {},
     "output_type": "execute_result"
    }
   ],
   "source": [
    "by_offer_type_df.T"
   ]
  },
  {
   "cell_type": "code",
   "execution_count": 19,
   "id": "74ce3ab0-1c4a-4f17-af8f-f524ce705b71",
   "metadata": {
    "colab": {
     "base_uri": "https://localhost:8080/",
     "height": 566
    },
    "executionInfo": {
     "elapsed": 799,
     "status": "ok",
     "timestamp": 1655217599060,
     "user": {
      "displayName": "Dataset NexusTech",
      "userId": "07175580999036037068"
     },
     "user_tz": -60
    },
    "id": "74ce3ab0-1c4a-4f17-af8f-f524ce705b71",
    "outputId": "9c48142e-e6a4-4913-8f93-2dc89ebfb00a"
   },
   "outputs": [
    {
     "data": {
      "image/png": "[encoded data removed]",
      "text/plain": [
       "<Figure size 720x504 with 1 Axes>"
      ]
     },
     "metadata": {
      "needs_background": "light"
     },
     "output_type": "display_data"
    }
   ],
   "source": [
    "# We can visualize this data as a bar plot, using thefollowing code\n",
    "\n",
    "ax = (by_offer_type_df).plot(\n",
    "kind='bar',\n",
    "figsize=(10, 7),\n",
    "grid=True\n",
    ")\n",
    "ax.set_ylabel('Engagement Rate (%)')\n",
    "plt.xticks(label = ['Offer 1', 'Offer 2', 'Offer 3'])\n",
    "plt.show()\n"
   ]
  },
  {
   "cell_type": "markdown",
   "id": "ea4b88e4-35b6-4edf-a608-5034c910203d",
   "metadata": {
    "id": "ea4b88e4-35b6-4edf-a608-5034c910203d"
   },
   "source": [
    "### Engagement rates by sales channel"
   ]
  },
  {
   "cell_type": "code",
   "execution_count": 20,
   "id": "0ea45429-ae1c-4457-9771-81c501bf0db1",
   "metadata": {
    "colab": {
     "base_uri": "https://localhost:8080/"
    },
    "executionInfo": {
     "elapsed": 66,
     "status": "ok",
     "timestamp": 1655217599061,
     "user": {
      "displayName": "Dataset NexusTech",
      "userId": "07175580999036037068"
     },
     "user_tz": -60
    },
    "id": "0ea45429-ae1c-4457-9771-81c501bf0db1",
    "outputId": "09166563-1a39-46d1-cd27-62738b889443"
   },
   "outputs": [
    {
     "data": {
      "text/plain": [
       "Sales Channel\n",
       "Agent          19.154443\n",
       "Branch         11.453058\n",
       "Call Center    10.878187\n",
       "Web            11.773585\n",
       "Name: Customer, dtype: float64"
      ]
     },
     "execution_count": 20,
     "metadata": {},
     "output_type": "execute_result"
    }
   ],
   "source": [
    "# We will analyze how engagement rates differ by different sales channels. Take a look at the following code:\n",
    "by_sales_channel_df = df.loc[df['Response'] == 'Yes'].groupby(['Sales Channel']).count()['Customer']/df.groupby('Sales Channel').count()['Customer']*100\n",
    "by_sales_channel_df"
   ]
  },
  {
   "cell_type": "code",
   "execution_count": 21,
   "id": "38b99e3d-f193-4480-8019-8197c21e3728",
   "metadata": {
    "colab": {
     "base_uri": "https://localhost:8080/",
     "height": 490
    },
    "executionInfo": {
     "elapsed": 54,
     "status": "ok",
     "timestamp": 1655217599064,
     "user": {
      "displayName": "Dataset NexusTech",
      "userId": "07175580999036037068"
     },
     "user_tz": -60
    },
    "id": "38b99e3d-f193-4480-8019-8197c21e3728",
    "outputId": "28c41486-730b-4f95-e584-07079bf3c839"
   },
   "outputs": [
    {
     "data": {
      "image/png": "[encoded data removed]",
      "text/plain": [
       "<Figure size 504x504 with 1 Axes>"
      ]
     },
     "metadata": {
      "needs_background": "light"
     },
     "output_type": "display_data"
    }
   ],
   "source": [
    "# It will be easier to look at this result with a visualization. You can use the following code to visualize this data:\n",
    "ax = (by_sales_channel_df*100.0).plot(\n",
    "kind='bar',\n",
    "figsize=(7, 7),\n",
    "color='skyblue',\n",
    "grid=True\n",
    ")\n",
    "ax.set_ylabel('Engagement Rate (%)')\n",
    "plt.show()"
   ]
  },
  {
   "cell_type": "markdown",
   "id": "Ih5snDauqXd_",
   "metadata": {
    "id": "Ih5snDauqXd_"
   },
   "source": [
    "### Engagement rates by sales channel and vehicle size"
   ]
  },
  {
   "cell_type": "code",
   "execution_count": 22,
   "id": "b01d270a-3f70-479b-9b0c-02e2f9bc8b53",
   "metadata": {
    "executionInfo": {
     "elapsed": 474,
     "status": "ok",
     "timestamp": 1655218526098,
     "user": {
      "displayName": "Dataset NexusTech",
      "userId": "07175580999036037068"
     },
     "user_tz": -60
    },
    "id": "b01d270a-3f70-479b-9b0c-02e2f9bc8b53"
   },
   "outputs": [],
   "source": [
    "# we will take a look at whether customers with various vehicle sizes respond differently to different sales channels. \n",
    "#The following code will compute the engagement rates per sales channel and vehicle size:\n",
    "\n",
    "by_sales_channel_df = df.loc[df['Response'] == 'Yes'].groupby(['Sales Channel', 'Vehicle Size']).count()['Customer']/df.groupby('Sales Channel').count()['Customer']*100\n"
   ]
  },
  {
   "cell_type": "code",
   "execution_count": 23,
   "id": "kRrCaRnTrRS1",
   "metadata": {
    "executionInfo": {
     "elapsed": 2,
     "status": "ok",
     "timestamp": 1655218528246,
     "user": {
      "displayName": "Dataset NexusTech",
      "userId": "07175580999036037068"
     },
     "user_tz": -60
    },
    "id": "kRrCaRnTrRS1"
   },
   "outputs": [],
   "source": [
    "by_sales_channel_df = pd.DataFrame(by_sales_channel_df)"
   ]
  },
  {
   "cell_type": "code",
   "execution_count": 24,
   "id": "PBG0dk_7rSm2",
   "metadata": {
    "colab": {
     "base_uri": "https://localhost:8080/",
     "height": 238
    },
    "executionInfo": {
     "elapsed": 16,
     "status": "ok",
     "timestamp": 1655218530000,
     "user": {
      "displayName": "Dataset NexusTech",
      "userId": "07175580999036037068"
     },
     "user_tz": -60
    },
    "id": "PBG0dk_7rSm2",
    "outputId": "b60f6d81-44bc-460d-a095-831ee64e8e71"
   },
   "outputs": [
    {
     "data": {
      "text/html": [
       "<div>\n",
       "<style scoped>\n",
       "    .dataframe tbody tr th:only-of-type {\n",
       "        vertical-align: middle;\n",
       "    }\n",
       "\n",
       "    .dataframe tbody tr th {\n",
       "        vertical-align: top;\n",
       "    }\n",
       "\n",
       "    .dataframe thead tr th {\n",
       "        text-align: left;\n",
       "    }\n",
       "\n",
       "    .dataframe thead tr:last-of-type th {\n",
       "        text-align: right;\n",
       "    }\n",
       "</style>\n",
       "<table border=\"1\" class=\"dataframe\">\n",
       "  <thead>\n",
       "    <tr>\n",
       "      <th></th>\n",
       "      <th colspan=\"3\" halign=\"left\">Customer</th>\n",
       "    </tr>\n",
       "    <tr>\n",
       "      <th>Vehicle Size</th>\n",
       "      <th>Large</th>\n",
       "      <th>Medsize</th>\n",
       "      <th>Small</th>\n",
       "    </tr>\n",
       "    <tr>\n",
       "      <th>Sales Channel</th>\n",
       "      <th></th>\n",
       "      <th></th>\n",
       "      <th></th>\n",
       "    </tr>\n",
       "  </thead>\n",
       "  <tbody>\n",
       "    <tr>\n",
       "      <th>Agent</th>\n",
       "      <td>2.070751</td>\n",
       "      <td>14.495255</td>\n",
       "      <td>2.588438</td>\n",
       "    </tr>\n",
       "    <tr>\n",
       "      <th>Branch</th>\n",
       "      <td>2.103623</td>\n",
       "      <td>7.479548</td>\n",
       "      <td>1.869887</td>\n",
       "    </tr>\n",
       "    <tr>\n",
       "      <th>Call Center</th>\n",
       "      <td>1.359773</td>\n",
       "      <td>6.798867</td>\n",
       "      <td>2.719547</td>\n",
       "    </tr>\n",
       "    <tr>\n",
       "      <th>Web</th>\n",
       "      <td>1.358491</td>\n",
       "      <td>9.509434</td>\n",
       "      <td>0.905660</td>\n",
       "    </tr>\n",
       "  </tbody>\n",
       "</table>\n",
       "</div>"
      ],
      "text/plain": [
       "               Customer                     \n",
       "Vehicle Size      Large    Medsize     Small\n",
       "Sales Channel                               \n",
       "Agent          2.070751  14.495255  2.588438\n",
       "Branch         2.103623   7.479548  1.869887\n",
       "Call Center    1.359773   6.798867  2.719547\n",
       "Web            1.358491   9.509434  0.905660"
      ]
     },
     "execution_count": 24,
     "metadata": {},
     "output_type": "execute_result"
    }
   ],
   "source": [
    "#we can unstack this data into a more visible format, using the following code:\n",
    "\n",
    "by_sales_channel_df = by_sales_channel_df.unstack().fillna(0)\n",
    "\n",
    "by_sales_channel_df   #.set_index('Vehicle Size')"
   ]
  },
  {
   "cell_type": "code",
   "execution_count": 25,
   "id": "wDsvOYTer8h_",
   "metadata": {
    "colab": {
     "base_uri": "https://localhost:8080/",
     "height": 488
    },
    "executionInfo": {
     "elapsed": 576,
     "status": "ok",
     "timestamp": 1655218552633,
     "user": {
      "displayName": "Dataset NexusTech",
      "userId": "07175580999036037068"
     },
     "user_tz": -60
    },
    "id": "wDsvOYTer8h_",
    "outputId": "ebbab834-b55d-410e-c41b-90f5a0e2611b"
   },
   "outputs": [
    {
     "data": {
      "image/png": "[encoded data removed]",
      "text/plain": [
       "<Figure size 720x504 with 1 Axes>"
      ]
     },
     "metadata": {
      "needs_background": "light"
     },
     "output_type": "display_data"
    }
   ],
   "source": [
    "#We can visualize the above results into a bar chart, using the following code:\n",
    "\n",
    "ax = (by_sales_channel_df).plot(\n",
    "kind='bar',\n",
    "figsize=(10, 7),\n",
    "grid=True\n",
    ")\n",
    "ax.set_ylabel('Engagement Rate (%)')\n",
    "plt.show()\n"
   ]
  },
  {
   "cell_type": "markdown",
   "id": "zLXDzXv5uUdK",
   "metadata": {
    "id": "zLXDzXv5uUdK"
   },
   "source": [
    "### Segmenting customer base"
   ]
  },
  {
   "cell_type": "code",
   "execution_count": 26,
   "id": "HeoKQzKhsZqL",
   "metadata": {
    "colab": {
     "base_uri": "https://localhost:8080/"
    },
    "executionInfo": {
     "elapsed": 10,
     "status": "ok",
     "timestamp": 1655218903637,
     "user": {
      "displayName": "Dataset NexusTech",
      "userId": "07175580999036037068"
     },
     "user_tz": -60
    },
    "id": "HeoKQzKhsZqL",
    "outputId": "b521232b-e39c-4a6c-fff9-6abddb19f9d0"
   },
   "outputs": [
    {
     "data": {
      "text/plain": [
       "count     9134.000000\n",
       "mean      8004.940475\n",
       "std       6870.967608\n",
       "min       1898.007675\n",
       "25%       3994.251794\n",
       "50%       5780.182197\n",
       "75%       8962.167041\n",
       "max      83325.381190\n",
       "Name: Customer Lifetime Value, dtype: float64"
      ]
     },
     "execution_count": 26,
     "metadata": {},
     "output_type": "execute_result"
    }
   ],
   "source": [
    "#  a look at the following distribution of the Customer Lifetime Value column:\n",
    "df[\"Customer Lifetime Value\"].describe()"
   ]
  },
  {
   "cell_type": "code",
   "execution_count": 27,
   "id": "y5bP6aPOvBT7",
   "metadata": {
    "colab": {
     "base_uri": "https://localhost:8080/"
    },
    "executionInfo": {
     "elapsed": 459,
     "status": "ok",
     "timestamp": 1655218986777,
     "user": {
      "displayName": "Dataset NexusTech",
      "userId": "07175580999036037068"
     },
     "user_tz": -60
    },
    "id": "y5bP6aPOvBT7",
    "outputId": "479b03ca-0b55-4fee-97fc-0fc1fae69d2e"
   },
   "outputs": [
    {
     "data": {
      "text/plain": [
       "0        2763.519279\n",
       "1        6979.535903\n",
       "2       12887.431650\n",
       "3        7645.861827\n",
       "4        2813.692575\n",
       "            ...     \n",
       "9129    23405.987980\n",
       "9130     3096.511217\n",
       "9131     8163.890428\n",
       "9132     7524.442436\n",
       "9133     2611.836866\n",
       "Name: Customer Lifetime Value, Length: 9134, dtype: float64"
      ]
     },
     "execution_count": 27,
     "metadata": {},
     "output_type": "execute_result"
    }
   ],
   "source": [
    "df[\"Customer Lifetime Value\"]"
   ]
  },
  {
   "cell_type": "code",
   "execution_count": 28,
   "id": "xZvbE3yjvQ3I",
   "metadata": {
    "executionInfo": {
     "elapsed": 2371,
     "status": "ok",
     "timestamp": 1655219190420,
     "user": {
      "displayName": "Dataset NexusTech",
      "userId": "07175580999036037068"
     },
     "user_tz": -60
    },
    "id": "xZvbE3yjvQ3I"
   },
   "outputs": [],
   "source": [
    "# we are going to define those customers with a Customer Lifetime Value higher than the median as high-CLV customers and\n",
    "# those with a CLV below the median as low-CLV customers. You can use the following code for encoding:\n",
    "\n",
    "df['CLV Segment'] = df['Customer Lifetime Value'].apply(lambda x: 'High' if x > df['Customer Lifetime Value'].median() else 'Low')"
   ]
  },
  {
   "cell_type": "code",
   "execution_count": 29,
   "id": "OGeq-MUowRKZ",
   "metadata": {
    "colab": {
     "base_uri": "https://localhost:8080/"
    },
    "executionInfo": {
     "elapsed": 28,
     "status": "ok",
     "timestamp": 1655219314838,
     "user": {
      "displayName": "Dataset NexusTech",
      "userId": "07175580999036037068"
     },
     "user_tz": -60
    },
    "id": "OGeq-MUowRKZ",
    "outputId": "7914b472-fcab-41bd-b8cb-15b3662e4154"
   },
   "outputs": [
    {
     "data": {
      "text/plain": [
       "count    9134.000000\n",
       "mean       48.064594\n",
       "std        27.905991\n",
       "min         0.000000\n",
       "25%        24.000000\n",
       "50%        48.000000\n",
       "75%        71.000000\n",
       "max        99.000000\n",
       "Name: Months Since Policy Inception, dtype: float64"
      ]
     },
     "execution_count": 29,
     "metadata": {},
     "output_type": "execute_result"
    }
   ],
   "source": [
    "# We are going to go through the same process for the Months Since Policy Inception field\n",
    "\n",
    "df['Months Since Policy Inception'].describe()"
   ]
  },
  {
   "cell_type": "code",
   "execution_count": 30,
   "id": "SBAU2BfOwlpU",
   "metadata": {
    "colab": {
     "base_uri": "https://localhost:8080/"
    },
    "executionInfo": {
     "elapsed": 504,
     "status": "ok",
     "timestamp": 1655219426115,
     "user": {
      "displayName": "Dataset NexusTech",
      "userId": "07175580999036037068"
     },
     "user_tz": -60
    },
    "id": "SBAU2BfOwlpU",
    "outputId": "17fb7595-8f7b-4814-d0d7-8b0711ae02c3"
   },
   "outputs": [
    {
     "data": {
      "text/plain": [
       "48.0"
      ]
     },
     "execution_count": 30,
     "metadata": {},
     "output_type": "execute_result"
    }
   ],
   "source": [
    "df['Months Since Policy Inception'].median()"
   ]
  },
  {
   "cell_type": "code",
   "execution_count": 31,
   "id": "dzmtRZ8jxA4A",
   "metadata": {
    "executionInfo": {
     "elapsed": 1511,
     "status": "ok",
     "timestamp": 1655220395391,
     "user": {
      "displayName": "Dataset NexusTech",
      "userId": "07175580999036037068"
     },
     "user_tz": -60
    },
    "id": "dzmtRZ8jxA4A"
   },
   "outputs": [],
   "source": [
    "# we are going to define those customers with Months Since Policy\n",
    "# Inception higher than the median as high Policy Age Segment customers and those\n",
    "# below the median as low Policy Age Segment customers. You can use the\n",
    "# following code for encoding:\n",
    "\n",
    "df['Policy Age Segment'] = df['Months Since Policy Inception'].apply(lambda x: 'High' if x > df['Months Since Policy Inception'].median() else 'Low')\n"
   ]
  },
  {
   "cell_type": "code",
   "execution_count": 32,
   "id": "9wqisuGs0_Ye",
   "metadata": {
    "colab": {
     "base_uri": "https://localhost:8080/",
     "height": 458
    },
    "executionInfo": {
     "elapsed": 2092,
     "status": "ok",
     "timestamp": 1655220557475,
     "user": {
      "displayName": "Dataset NexusTech",
      "userId": "07175580999036037068"
     },
     "user_tz": -60
    },
    "id": "9wqisuGs0_Ye",
    "outputId": "3140df5d-c058-4d01-b7fc-ebf244b7526c"
   },
   "outputs": [
    {
     "data": {
      "image/png": "[encoded data removed]",
      "text/plain": [
       "<Figure size 720x504 with 1 Axes>"
      ]
     },
     "metadata": {
      "needs_background": "light"
     },
     "output_type": "display_data"
    }
   ],
   "source": [
    "# We can visualize these segments using the following code:\n",
    "\n",
    "ax = df.loc[\n",
    "(df['CLV Segment'] == 'High') & (df['Policy Age Segment'] == 'High')\n",
    "].plot.scatter(\n",
    "x='Months Since Policy Inception',\n",
    "y='Customer Lifetime Value',\n",
    "logy=True,\n",
    "color='red'\n",
    ")\n",
    "\n",
    "df.loc[\n",
    "(df['CLV Segment'] == 'Low') & (df['Policy Age Segment'] == 'High')\n",
    "].plot.scatter(\n",
    "ax=ax,\n",
    "x='Months Since Policy Inception',\n",
    "y='Customer Lifetime Value',\n",
    "logy=True,\n",
    "color='blue'\n",
    ")\n",
    "\n",
    "\n",
    "df.loc[\n",
    "(df['CLV Segment'] == 'High') & (df['Policy Age Segment'] == 'Low')\n",
    "].plot.scatter(\n",
    "ax=ax,\n",
    "x='Months Since Policy Inception',\n",
    "y='Customer Lifetime Value',\n",
    "logy=True,\n",
    "color='orange'\n",
    ")\n",
    "\n",
    "df.loc[\n",
    "(df['CLV Segment'] == 'Low') & (df['Policy Age Segment'] == 'Low')\n",
    "].plot.scatter(\n",
    "ax=ax,\n",
    "x='Months Since Policy Inception',\n",
    "y='Customer Lifetime Value',\n",
    "logy=True,\n",
    "color='green',\n",
    "grid=True,\n",
    "figsize=(10, 7)\n",
    ")\n",
    "ax.set_ylabel('CLV (in log scale)')\n",
    "ax.set_xlabel('Months Since Policy Inception')\n",
    "ax.set_title('Segments by CLV and Policy Age')\n",
    "plt.show()"
   ]
  },
  {
   "cell_type": "code",
   "execution_count": 33,
   "id": "JrcgMU4C2oMh",
   "metadata": {
    "executionInfo": {
     "elapsed": 413,
     "status": "ok",
     "timestamp": 1655221108948,
     "user": {
      "displayName": "Dataset NexusTech",
      "userId": "07175580999036037068"
     },
     "user_tz": -60
    },
    "id": "JrcgMU4C2oMh"
   },
   "outputs": [],
   "source": [
    "# let's see whether there is any noticeable difference in the engagement rates among these four segments with the following code.\n",
    "\n",
    "engagment_rates_by_segment_df = df.loc[df['Response'] == 'Yes'].groupby(['CLV Segment', 'Policy Age Segment']).count()['Customer']/df.groupby(['CLV Segment', 'Policy Age Segment']).count()['Customer']*100\n"
   ]
  },
  {
   "cell_type": "code",
   "execution_count": 34,
   "id": "AkGCx5NT3TVn",
   "metadata": {
    "colab": {
     "base_uri": "https://localhost:8080/"
    },
    "executionInfo": {
     "elapsed": 401,
     "status": "ok",
     "timestamp": 1655221111343,
     "user": {
      "displayName": "Dataset NexusTech",
      "userId": "07175580999036037068"
     },
     "user_tz": -60
    },
    "id": "AkGCx5NT3TVn",
    "outputId": "865a9bba-5096-4dac-c0a6-4cce428f4be9"
   },
   "outputs": [
    {
     "data": {
      "text/plain": [
       "CLV Segment  Policy Age Segment\n",
       "High         High                  13.872832\n",
       "             Low                   13.206733\n",
       "Low          High                  16.245007\n",
       "             Low                   13.995680\n",
       "Name: Customer, dtype: float64"
      ]
     },
     "execution_count": 34,
     "metadata": {},
     "output_type": "execute_result"
    }
   ],
   "source": [
    "engagment_rates_by_segment_df"
   ]
  },
  {
   "cell_type": "code",
   "execution_count": 35,
   "id": "y4znx6PE3URP",
   "metadata": {
    "colab": {
     "base_uri": "https://localhost:8080/",
     "height": 472
    },
    "executionInfo": {
     "elapsed": 483,
     "status": "ok",
     "timestamp": 1655221320726,
     "user": {
      "displayName": "Dataset NexusTech",
      "userId": "07175580999036037068"
     },
     "user_tz": -60
    },
    "id": "y4znx6PE3URP",
    "outputId": "44a8efaa-754c-45c1-91d9-bfe475fc1182"
   },
   "outputs": [
    {
     "data": {
      "image/png": "[encoded data removed]",
      "text/plain": [
       "<Figure size 720x504 with 1 Axes>"
      ]
     },
     "metadata": {
      "needs_background": "light"
     },
     "output_type": "display_data"
    }
   ],
   "source": [
    "ax = (engagment_rates_by_segment_df.unstack()).plot(\n",
    "kind='bar',\n",
    "figsize=(10, 7),\n",
    "grid=True\n",
    ")\n",
    "ax.set_ylabel('Engagement Rate (%)')\n",
    "ax.set_title('Engagement Rates by Customer Segments')\n",
    "plt.show()"
   ]
  },
  {
   "cell_type": "code",
   "execution_count": null,
   "id": "150d637e-8ed4-4092-9e08-1453a502f34b",
   "metadata": {},
   "outputs": [],
   "source": []
  }
 ],
 "metadata": {
  "colab": {
   "name": "Day 7: Conducting customer analytics with Python.ipynb",
   "provenance": []
  },
  "kernelspec": {
   "display_name": "Python 3",
   "language": "python",
   "name": "python3"
  },
  "language_info": {
   "codemirror_mode": {
    "name": "ipython",
    "version": 3
   },
   "file_extension": ".py",
   "mimetype": "text/x-python",
   "name": "python",
   "nbconvert_exporter": "python",
   "pygments_lexer": "ipython3",
   "version": "3.8.8"
  }
 },
 "nbformat": 4,
 "nbformat_minor": 5
}
