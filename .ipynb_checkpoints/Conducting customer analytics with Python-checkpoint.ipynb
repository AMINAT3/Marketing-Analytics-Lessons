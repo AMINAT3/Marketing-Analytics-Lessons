{
 "cells": [
  {
   "cell_type": "code",
   "execution_count": 6,
   "id": "a84878ac-3c22-45bf-b059-c90da1b440c4",
   "metadata": {},
   "outputs": [],
   "source": [
    "import matplotlib.pyplot as plt"
   ]
  },
  {
   "cell_type": "code",
   "execution_count": 1,
   "id": "e89333a9-03ba-4b15-a64a-cf003edd50d4",
   "metadata": {},
   "outputs": [],
   "source": [
    "# importing the pandas library and loading the dataset\n",
    "import pandas as pd\n",
    "df = pd.read_csv('C:\\\\Users\\\\Zachary_B\\\\Desktop\\\\dataset\\\\WA_Fn-UseC_-Marketing-Customer-Value-Analysis.csv')"
   ]
  },
  {
   "cell_type": "code",
   "execution_count": 2,
   "id": "e33e3e66-e335-443e-b0d7-82a0270478c1",
   "metadata": {},
   "outputs": [
    {
     "data": {
      "text/html": [
       "<div>\n",
       "<style scoped>\n",
       "    .dataframe tbody tr th:only-of-type {\n",
       "        vertical-align: middle;\n",
       "    }\n",
       "\n",
       "    .dataframe tbody tr th {\n",
       "        vertical-align: top;\n",
       "    }\n",
       "\n",
       "    .dataframe thead th {\n",
       "        text-align: right;\n",
       "    }\n",
       "</style>\n",
       "<table border=\"1\" class=\"dataframe\">\n",
       "  <thead>\n",
       "    <tr style=\"text-align: right;\">\n",
       "      <th></th>\n",
       "      <th>Customer</th>\n",
       "      <th>State</th>\n",
       "      <th>Customer Lifetime Value</th>\n",
       "      <th>Response</th>\n",
       "      <th>Coverage</th>\n",
       "      <th>Education</th>\n",
       "      <th>Effective To Date</th>\n",
       "      <th>EmploymentStatus</th>\n",
       "      <th>Gender</th>\n",
       "      <th>Income</th>\n",
       "      <th>...</th>\n",
       "      <th>Months Since Policy Inception</th>\n",
       "      <th>Number of Open Complaints</th>\n",
       "      <th>Number of Policies</th>\n",
       "      <th>Policy Type</th>\n",
       "      <th>Policy</th>\n",
       "      <th>Renew Offer Type</th>\n",
       "      <th>Sales Channel</th>\n",
       "      <th>Total Claim Amount</th>\n",
       "      <th>Vehicle Class</th>\n",
       "      <th>Vehicle Size</th>\n",
       "    </tr>\n",
       "  </thead>\n",
       "  <tbody>\n",
       "    <tr>\n",
       "      <th>0</th>\n",
       "      <td>BU79786</td>\n",
       "      <td>Washington</td>\n",
       "      <td>2763.519279</td>\n",
       "      <td>No</td>\n",
       "      <td>Basic</td>\n",
       "      <td>Bachelor</td>\n",
       "      <td>2/24/11</td>\n",
       "      <td>Employed</td>\n",
       "      <td>F</td>\n",
       "      <td>56274</td>\n",
       "      <td>...</td>\n",
       "      <td>5</td>\n",
       "      <td>0</td>\n",
       "      <td>1</td>\n",
       "      <td>Corporate Auto</td>\n",
       "      <td>Corporate L3</td>\n",
       "      <td>Offer1</td>\n",
       "      <td>Agent</td>\n",
       "      <td>384.811147</td>\n",
       "      <td>Two-Door Car</td>\n",
       "      <td>Medsize</td>\n",
       "    </tr>\n",
       "    <tr>\n",
       "      <th>1</th>\n",
       "      <td>QZ44356</td>\n",
       "      <td>Arizona</td>\n",
       "      <td>6979.535903</td>\n",
       "      <td>No</td>\n",
       "      <td>Extended</td>\n",
       "      <td>Bachelor</td>\n",
       "      <td>1/31/11</td>\n",
       "      <td>Unemployed</td>\n",
       "      <td>F</td>\n",
       "      <td>0</td>\n",
       "      <td>...</td>\n",
       "      <td>42</td>\n",
       "      <td>0</td>\n",
       "      <td>8</td>\n",
       "      <td>Personal Auto</td>\n",
       "      <td>Personal L3</td>\n",
       "      <td>Offer3</td>\n",
       "      <td>Agent</td>\n",
       "      <td>1131.464935</td>\n",
       "      <td>Four-Door Car</td>\n",
       "      <td>Medsize</td>\n",
       "    </tr>\n",
       "    <tr>\n",
       "      <th>2</th>\n",
       "      <td>AI49188</td>\n",
       "      <td>Nevada</td>\n",
       "      <td>12887.431650</td>\n",
       "      <td>No</td>\n",
       "      <td>Premium</td>\n",
       "      <td>Bachelor</td>\n",
       "      <td>2/19/11</td>\n",
       "      <td>Employed</td>\n",
       "      <td>F</td>\n",
       "      <td>48767</td>\n",
       "      <td>...</td>\n",
       "      <td>38</td>\n",
       "      <td>0</td>\n",
       "      <td>2</td>\n",
       "      <td>Personal Auto</td>\n",
       "      <td>Personal L3</td>\n",
       "      <td>Offer1</td>\n",
       "      <td>Agent</td>\n",
       "      <td>566.472247</td>\n",
       "      <td>Two-Door Car</td>\n",
       "      <td>Medsize</td>\n",
       "    </tr>\n",
       "    <tr>\n",
       "      <th>3</th>\n",
       "      <td>WW63253</td>\n",
       "      <td>California</td>\n",
       "      <td>7645.861827</td>\n",
       "      <td>No</td>\n",
       "      <td>Basic</td>\n",
       "      <td>Bachelor</td>\n",
       "      <td>1/20/11</td>\n",
       "      <td>Unemployed</td>\n",
       "      <td>M</td>\n",
       "      <td>0</td>\n",
       "      <td>...</td>\n",
       "      <td>65</td>\n",
       "      <td>0</td>\n",
       "      <td>7</td>\n",
       "      <td>Corporate Auto</td>\n",
       "      <td>Corporate L2</td>\n",
       "      <td>Offer1</td>\n",
       "      <td>Call Center</td>\n",
       "      <td>529.881344</td>\n",
       "      <td>SUV</td>\n",
       "      <td>Medsize</td>\n",
       "    </tr>\n",
       "    <tr>\n",
       "      <th>4</th>\n",
       "      <td>HB64268</td>\n",
       "      <td>Washington</td>\n",
       "      <td>2813.692575</td>\n",
       "      <td>No</td>\n",
       "      <td>Basic</td>\n",
       "      <td>Bachelor</td>\n",
       "      <td>2/3/11</td>\n",
       "      <td>Employed</td>\n",
       "      <td>M</td>\n",
       "      <td>43836</td>\n",
       "      <td>...</td>\n",
       "      <td>44</td>\n",
       "      <td>0</td>\n",
       "      <td>1</td>\n",
       "      <td>Personal Auto</td>\n",
       "      <td>Personal L1</td>\n",
       "      <td>Offer1</td>\n",
       "      <td>Agent</td>\n",
       "      <td>138.130879</td>\n",
       "      <td>Four-Door Car</td>\n",
       "      <td>Medsize</td>\n",
       "    </tr>\n",
       "  </tbody>\n",
       "</table>\n",
       "<p>5 rows × 24 columns</p>\n",
       "</div>"
      ],
      "text/plain": [
       "  Customer       State  Customer Lifetime Value Response  Coverage Education  \\\n",
       "0  BU79786  Washington              2763.519279       No     Basic  Bachelor   \n",
       "1  QZ44356     Arizona              6979.535903       No  Extended  Bachelor   \n",
       "2  AI49188      Nevada             12887.431650       No   Premium  Bachelor   \n",
       "3  WW63253  California              7645.861827       No     Basic  Bachelor   \n",
       "4  HB64268  Washington              2813.692575       No     Basic  Bachelor   \n",
       "\n",
       "  Effective To Date EmploymentStatus Gender  Income  ...  \\\n",
       "0           2/24/11         Employed      F   56274  ...   \n",
       "1           1/31/11       Unemployed      F       0  ...   \n",
       "2           2/19/11         Employed      F   48767  ...   \n",
       "3           1/20/11       Unemployed      M       0  ...   \n",
       "4            2/3/11         Employed      M   43836  ...   \n",
       "\n",
       "  Months Since Policy Inception Number of Open Complaints  Number of Policies  \\\n",
       "0                             5                         0                   1   \n",
       "1                            42                         0                   8   \n",
       "2                            38                         0                   2   \n",
       "3                            65                         0                   7   \n",
       "4                            44                         0                   1   \n",
       "\n",
       "      Policy Type        Policy  Renew Offer Type  Sales Channel  \\\n",
       "0  Corporate Auto  Corporate L3            Offer1          Agent   \n",
       "1   Personal Auto   Personal L3            Offer3          Agent   \n",
       "2   Personal Auto   Personal L3            Offer1          Agent   \n",
       "3  Corporate Auto  Corporate L2            Offer1    Call Center   \n",
       "4   Personal Auto   Personal L1            Offer1          Agent   \n",
       "\n",
       "  Total Claim Amount  Vehicle Class Vehicle Size  \n",
       "0         384.811147   Two-Door Car      Medsize  \n",
       "1        1131.464935  Four-Door Car      Medsize  \n",
       "2         566.472247   Two-Door Car      Medsize  \n",
       "3         529.881344            SUV      Medsize  \n",
       "4         138.130879  Four-Door Car      Medsize  \n",
       "\n",
       "[5 rows x 24 columns]"
      ]
     },
     "execution_count": 2,
     "metadata": {},
     "output_type": "execute_result"
    }
   ],
   "source": [
    "# returns the first five rows of the dataset \n",
    "df.head()"
   ]
  },
  {
   "cell_type": "code",
   "execution_count": 3,
   "id": "e3a7f64c-d64c-4cd4-8976-049bdb5bb3f9",
   "metadata": {},
   "outputs": [
    {
     "data": {
      "text/plain": [
       "(9134, 24)"
      ]
     },
     "execution_count": 3,
     "metadata": {},
     "output_type": "execute_result"
    }
   ],
   "source": [
    "# returns the number of rows and columns in the dataset\n",
    "df.shape"
   ]
  },
  {
   "cell_type": "markdown",
   "id": "14c92c7e-a26f-44de-800b-760f4df3d5a5",
   "metadata": {},
   "source": [
    "## Analytics on engaged customers\n",
    "Now that we have loaded the data into our Python environment, we are going\n",
    "to analyze it to understand how different customers behave and react to\n",
    "different marketing strategies. We are going to follow these steps:\n",
    "1. Overall engagement rate\n",
    "2. Engagement rates by offer type\n",
    "3. Engagement rates by offer type and vehicle class\n",
    "4. Engagement rates by sales channel\n",
    "5. Engagement rates by sales channel and vehicle size"
   ]
  },
  {
   "cell_type": "markdown",
   "id": "b0775179-62b2-4245-8a80-3d9d9c83d806",
   "metadata": {},
   "source": [
    "### Overall engagement rate"
   ]
  },
  {
   "cell_type": "code",
   "execution_count": 4,
   "id": "9d2cdccb-d9c8-4ac0-9fdb-57a4d7dcbd5b",
   "metadata": {},
   "outputs": [
    {
     "data": {
      "text/plain": [
       "Response\n",
       "No     7826\n",
       "Yes    1308\n",
       "Name: Customer, dtype: int64"
      ]
     },
     "execution_count": 4,
     "metadata": {},
     "output_type": "execute_result"
    }
   ],
   "source": [
    "# We can use the following code to get the total number of customers who have responded\n",
    "df.groupby('Response').count()['Customer']"
   ]
  },
  {
   "cell_type": "code",
   "execution_count": 7,
   "id": "1632eb1f-3b93-43c8-8372-c674e8129af8",
   "metadata": {},
   "outputs": [
    {
     "data": {
      "image/png": "[encoded data removed]",
      "text/plain": [
       "<Figure size 720x504 with 1 Axes>"
      ]
     },
     "metadata": {
      "needs_background": "light"
     },
     "output_type": "display_data"
    }
   ],
   "source": [
    "# In order to visualize the above in a plot, you can use the following code:\n",
    "\n",
    "\n",
    "ax = df.groupby('Response').count()['Customer'].plot(\n",
    "kind='bar',\n",
    "color='skyblue',\n",
    "grid=True,\n",
    "figsize=(10, 7),\n",
    "title='Marketing Engagment'\n",
    ")\n",
    "ax.set_xlabel('Engaged')\n",
    "ax.set_ylabel('Count')\n",
    "plt.show()\n"
   ]
  },
  {
   "cell_type": "code",
   "execution_count": 11,
   "id": "dd196af9-262c-45d4-9362-832d82e47409",
   "metadata": {},
   "outputs": [
    {
     "data": {
      "text/plain": [
       "Response\n",
       "No     85.679877\n",
       "Yes    14.320123\n",
       "Name: Customer, dtype: float64"
      ]
     },
     "execution_count": 11,
     "metadata": {},
     "output_type": "execute_result"
    }
   ],
   "source": [
    "# We can use the following code to get the percentage of customers who have responded\n",
    "df.groupby('Response').count()['Customer']/df.shape[0]*100"
   ]
  },
  {
   "cell_type": "markdown",
   "id": "8f0ac015-2f01-4b49-b235-999bc7fe8ac4",
   "metadata": {},
   "source": [
    "### Engagement rates by offer type"
   ]
  },
  {
   "cell_type": "code",
   "execution_count": 20,
   "id": "0976db66-bf8a-414e-9cf6-3afe6a11d7da",
   "metadata": {},
   "outputs": [],
   "source": [
    "# we are going to look into what types of offers worked best for the engaged customers. Take a look at the following code:\n",
    "\n",
    "by_offer_type_df = df.loc[df['Response'] == 'Yes'].groupby(['Renew Offer Type']).count()['Customer'] / df.groupby('Renew Offer Type').count()['Customer']*100"
   ]
  },
  {
   "cell_type": "code",
   "execution_count": 21,
   "id": "84b91fc7-7610-4a17-827a-1bc7dad219c9",
   "metadata": {},
   "outputs": [
    {
     "data": {
      "text/plain": [
       "Renew Offer Type\n",
       "Offer1    15.831557\n",
       "Offer2    23.376623\n",
       "Offer3     2.094972\n",
       "Offer4          NaN\n",
       "Name: Customer, dtype: float64"
      ]
     },
     "execution_count": 21,
     "metadata": {},
     "output_type": "execute_result"
    }
   ],
   "source": [
    "by_offer_type_df"
   ]
  },
  {
   "cell_type": "code",
   "execution_count": 23,
   "id": "5b2308c0-57c0-4d7e-8ddc-459fb1dd5ee9",
   "metadata": {},
   "outputs": [
    {
     "data": {
      "image/png": "[encoded data removed]",
      "text/plain": [
       "<Figure size 504x504 with 1 Axes>"
      ]
     },
     "metadata": {
      "needs_background": "light"
     },
     "output_type": "display_data"
    }
   ],
   "source": [
    "# We can visualize these results in a bar plot, using the following code:\n",
    "ax = (by_offer_type_df).plot(\n",
    "kind='bar',\n",
    "figsize=(7, 7),\n",
    "color='skyblue',\n",
    "grid=True\n",
    ")\n",
    "ax.set_ylabel('Engagement Rate (%)')\n",
    "plt.show()"
   ]
  },
  {
   "cell_type": "markdown",
   "id": "724d45ed-8fc7-423d-a527-656543fb5040",
   "metadata": {},
   "source": [
    "### Engagement rates by offer type and vehicle class"
   ]
  },
  {
   "cell_type": "code",
   "execution_count": 26,
   "id": "6ece01c1-edde-444a-818d-b40c1661d2d6",
   "metadata": {},
   "outputs": [],
   "source": [
    "#We are going tolook at the engagement rates by each offer type and Vehicle Class using thefollowing code\n",
    "\n",
    "by_offer_type_df = df.loc[df['Response'] == 'Yes'].groupby(['Renew Offer Type', 'Vehicle Class']).count()['Customer']/df.groupby('Renew Offer Type').count()['Customer']*100"
   ]
  },
  {
   "cell_type": "code",
   "execution_count": 27,
   "id": "960f5cb9-8bfd-4d8b-95ca-4c5e64c34bbb",
   "metadata": {},
   "outputs": [
    {
     "data": {
      "text/plain": [
       "Renew Offer Type  Vehicle Class\n",
       "Offer1            Four-Door Car     7.036247\n",
       "                  Luxury Car        0.159915\n",
       "                  Luxury SUV        0.479744\n",
       "                  SUV               4.477612\n",
       "                  Sports Car        1.119403\n",
       "                  Two-Door Car      2.558635\n",
       "Offer2            Four-Door Car    11.483254\n",
       "                  Luxury Car        0.205058\n",
       "                  Luxury SUV        0.410116\n",
       "                  SUV               4.101162\n",
       "                  Sports Car        1.640465\n",
       "                  Two-Door Car      5.536569\n",
       "Offer3            Four-Door Car     1.675978\n",
       "                  Two-Door Car      0.418994\n",
       "Name: Customer, dtype: float64"
      ]
     },
     "execution_count": 27,
     "metadata": {},
     "output_type": "execute_result"
    }
   ],
   "source": [
    "by_offer_type_df"
   ]
  },
  {
   "cell_type": "code",
   "execution_count": 31,
   "id": "90e9f4b6-40d2-4d68-aea5-5a041b96e03a",
   "metadata": {},
   "outputs": [],
   "source": [
    "by_offer_type_df = pd.DataFrame(by_offer_type_df)"
   ]
  },
  {
   "cell_type": "code",
   "execution_count": 32,
   "id": "2336cc47-4f8d-492c-93d9-76ccf8aaf74f",
   "metadata": {},
   "outputs": [],
   "source": [
    "# To make this more readable, we can transform this data by using the followingcode\n",
    "by_offer_type_df = by_offer_type_df.unstack().fillna(0)"
   ]
  },
  {
   "cell_type": "code",
   "execution_count": 34,
   "id": "b88d57f0-578c-40d8-b08e-ea2d2357c16c",
   "metadata": {},
   "outputs": [
    {
     "data": {
      "text/html": [
       "<div>\n",
       "<style scoped>\n",
       "    .dataframe tbody tr th:only-of-type {\n",
       "        vertical-align: middle;\n",
       "    }\n",
       "\n",
       "    .dataframe tbody tr th {\n",
       "        vertical-align: top;\n",
       "    }\n",
       "\n",
       "    .dataframe thead th {\n",
       "        text-align: right;\n",
       "    }\n",
       "</style>\n",
       "<table border=\"1\" class=\"dataframe\">\n",
       "  <thead>\n",
       "    <tr style=\"text-align: right;\">\n",
       "      <th></th>\n",
       "      <th>Vehicle Class</th>\n",
       "      <th>Four-Door Car</th>\n",
       "      <th>Luxury Car</th>\n",
       "      <th>Luxury SUV</th>\n",
       "      <th>SUV</th>\n",
       "      <th>Sports Car</th>\n",
       "      <th>Two-Door Car</th>\n",
       "    </tr>\n",
       "    <tr>\n",
       "      <th></th>\n",
       "      <th>Renew Offer Type</th>\n",
       "      <th></th>\n",
       "      <th></th>\n",
       "      <th></th>\n",
       "      <th></th>\n",
       "      <th></th>\n",
       "      <th></th>\n",
       "    </tr>\n",
       "  </thead>\n",
       "  <tbody>\n",
       "    <tr>\n",
       "      <th rowspan=\"3\" valign=\"top\">0</th>\n",
       "      <th>Offer1</th>\n",
       "      <td>7.036247</td>\n",
       "      <td>0.159915</td>\n",
       "      <td>0.479744</td>\n",
       "      <td>4.477612</td>\n",
       "      <td>1.119403</td>\n",
       "      <td>2.558635</td>\n",
       "    </tr>\n",
       "    <tr>\n",
       "      <th>Offer2</th>\n",
       "      <td>11.483254</td>\n",
       "      <td>0.205058</td>\n",
       "      <td>0.410116</td>\n",
       "      <td>4.101162</td>\n",
       "      <td>1.640465</td>\n",
       "      <td>5.536569</td>\n",
       "    </tr>\n",
       "    <tr>\n",
       "      <th>Offer3</th>\n",
       "      <td>1.675978</td>\n",
       "      <td>0.000000</td>\n",
       "      <td>0.000000</td>\n",
       "      <td>0.000000</td>\n",
       "      <td>0.000000</td>\n",
       "      <td>0.418994</td>\n",
       "    </tr>\n",
       "  </tbody>\n",
       "</table>\n",
       "</div>"
      ],
      "text/plain": [
       "Vehicle Class       Four-Door Car  Luxury Car  Luxury SUV       SUV  \\\n",
       "  Renew Offer Type                                                    \n",
       "0 Offer1                 7.036247    0.159915    0.479744  4.477612   \n",
       "  Offer2                11.483254    0.205058    0.410116  4.101162   \n",
       "  Offer3                 1.675978    0.000000    0.000000  0.000000   \n",
       "\n",
       "Vehicle Class       Sports Car  Two-Door Car  \n",
       "  Renew Offer Type                            \n",
       "0 Offer1              1.119403      2.558635  \n",
       "  Offer2              1.640465      5.536569  \n",
       "  Offer3              0.000000      0.418994  "
      ]
     },
     "execution_count": 34,
     "metadata": {},
     "output_type": "execute_result"
    }
   ],
   "source": [
    "by_offer_type_df.T"
   ]
  },
  {
   "cell_type": "code",
   "execution_count": 43,
   "id": "74ce3ab0-1c4a-4f17-af8f-f524ce705b71",
   "metadata": {},
   "outputs": [
    {
     "data": {
      "image/png": "[encoded data removed]",
      "text/plain": [
       "<Figure size 720x504 with 1 Axes>"
      ]
     },
     "metadata": {
      "needs_background": "light"
     },
     "output_type": "display_data"
    }
   ],
   "source": [
    "# We can visualize this data as a bar plot, using thefollowing code\n",
    "\n",
    "ax = (by_offer_type_df.T).plot(\n",
    "kind='bar',\n",
    "figsize=(10, 7),\n",
    "grid=True\n",
    ")\n",
    "ax.set_ylabel('Engagement Rate (%)')\n",
    "plt.xticks(label = ['Offer 1', 'Offer 2', 'Offer 3'])\n",
    "plt.show()\n"
   ]
  },
  {
   "cell_type": "markdown",
   "id": "ea4b88e4-35b6-4edf-a608-5034c910203d",
   "metadata": {},
   "source": [
    "### Engagement rates by sales channel"
   ]
  },
  {
   "cell_type": "code",
   "execution_count": 46,
   "id": "0ea45429-ae1c-4457-9771-81c501bf0db1",
   "metadata": {},
   "outputs": [
    {
     "data": {
      "text/plain": [
       "Sales Channel\n",
       "Agent          19.154443\n",
       "Branch         11.453058\n",
       "Call Center    10.878187\n",
       "Web            11.773585\n",
       "Name: Customer, dtype: float64"
      ]
     },
     "execution_count": 46,
     "metadata": {},
     "output_type": "execute_result"
    }
   ],
   "source": [
    "# We will analyze how engagement rates differ by different sales channels. Take a look at the following code:\n",
    "by_sales_channel_df = df.loc[df['Response'] == 'Yes'].groupby(['Sales Channel']).count()['Customer']/df.groupby('Sales Channel').count()['Customer']*100\n",
    "by_sales_channel_df"
   ]
  },
  {
   "cell_type": "code",
   "execution_count": 47,
   "id": "38b99e3d-f193-4480-8019-8197c21e3728",
   "metadata": {},
   "outputs": [
    {
     "data": {
      "image/png": "[encoded data removed]",
      "text/plain": [
       "<Figure size 504x504 with 1 Axes>"
      ]
     },
     "metadata": {
      "needs_background": "light"
     },
     "output_type": "display_data"
    }
   ],
   "source": [
    "# It will be easier to look at this result with a visualization. You can use the following code to visualize this data:\n",
    "ax = (by_sales_channel_df*100.0).plot(\n",
    "kind='bar',\n",
    "figsize=(7, 7),\n",
    "color='skyblue',\n",
    "grid=True\n",
    ")\n",
    "ax.set_ylabel('Engagement Rate (%)')\n",
    "plt.show()"
   ]
  },
  {
   "cell_type": "code",
   "execution_count": null,
   "id": "b01d270a-3f70-479b-9b0c-02e2f9bc8b53",
   "metadata": {},
   "outputs": [],
   "source": []
  }
 ],
 "metadata": {
  "kernelspec": {
   "display_name": "Python 3",
   "language": "python",
   "name": "python3"
  },
  "language_info": {
   "codemirror_mode": {
    "name": "ipython",
    "version": 3
   },
   "file_extension": ".py",
   "mimetype": "text/x-python",
   "name": "python",
   "nbconvert_exporter": "python",
   "pygments_lexer": "ipython3",
   "version": "3.8.8"
  }
 },
 "nbformat": 4,
 "nbformat_minor": 5
}
